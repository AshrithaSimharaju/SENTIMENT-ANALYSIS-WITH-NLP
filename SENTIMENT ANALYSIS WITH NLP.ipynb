{
 "cells": [
  {
   "cell_type": "markdown",
   "metadata": {},
   "source": [
    "# TASK-2"
   ]
  },
  {
   "cell_type": "code",
   "execution_count": 1,
   "metadata": {},
   "outputs": [],
   "source": [
    "#importing required libraries\n",
    "\n",
    "import pandas as pd\n",
    "import numpy as np\n",
    "import matplotlib.pyplot as plt\n",
    "import seaborn as sns\n",
    "from sklearn.model_selection import train_test_split\n",
    "from sklearn.feature_extraction.text import TfidfVectorizer\n",
    "from sklearn.linear_model import LogisticRegression\n",
    "from sklearn.metrics import accuracy_score,confusion_matrix,classification_report\n",
    "from sklearn.metrics import precision_score, recall_score, f1_score"
   ]
  },
  {
   "cell_type": "code",
   "execution_count": 2,
   "metadata": {},
   "outputs": [
    {
     "data": {
      "text/html": [
       "<div>\n",
       "<style scoped>\n",
       "    .dataframe tbody tr th:only-of-type {\n",
       "        vertical-align: middle;\n",
       "    }\n",
       "\n",
       "    .dataframe tbody tr th {\n",
       "        vertical-align: top;\n",
       "    }\n",
       "\n",
       "    .dataframe thead th {\n",
       "        text-align: right;\n",
       "    }\n",
       "</style>\n",
       "<table border=\"1\" class=\"dataframe\">\n",
       "  <thead>\n",
       "    <tr style=\"text-align: right;\">\n",
       "      <th></th>\n",
       "      <th>Customer_ID</th>\n",
       "      <th>Age</th>\n",
       "      <th>Gender</th>\n",
       "      <th>Product_ID</th>\n",
       "      <th>Review_Text</th>\n",
       "      <th>Rating</th>\n",
       "      <th>Sentiment</th>\n",
       "      <th>Purchase_Date</th>\n",
       "      <th>Location</th>\n",
       "      <th>Return_Status</th>\n",
       "    </tr>\n",
       "  </thead>\n",
       "  <tbody>\n",
       "    <tr>\n",
       "      <th>0</th>\n",
       "      <td>CUST0001</td>\n",
       "      <td>58.0</td>\n",
       "      <td>Male</td>\n",
       "      <td>PROD666</td>\n",
       "      <td>Amazing experience, will watch again.</td>\n",
       "      <td>4</td>\n",
       "      <td>Positive</td>\n",
       "      <td>2024-01-01</td>\n",
       "      <td>Chennai</td>\n",
       "      <td>Not Returned</td>\n",
       "    </tr>\n",
       "    <tr>\n",
       "      <th>1</th>\n",
       "      <td>CUST0002</td>\n",
       "      <td>25.0</td>\n",
       "      <td>Female</td>\n",
       "      <td>PROD399</td>\n",
       "      <td>Excellent product, highly recommend!</td>\n",
       "      <td>5</td>\n",
       "      <td>Positive</td>\n",
       "      <td>2024-01-02</td>\n",
       "      <td>Bangalore</td>\n",
       "      <td>Returned</td>\n",
       "    </tr>\n",
       "    <tr>\n",
       "      <th>2</th>\n",
       "      <td>CUST0003</td>\n",
       "      <td>19.0</td>\n",
       "      <td>Male</td>\n",
       "      <td>PROD814</td>\n",
       "      <td>Terrible customer service.</td>\n",
       "      <td>5</td>\n",
       "      <td>Negative</td>\n",
       "      <td>2024-01-03</td>\n",
       "      <td>Delhi</td>\n",
       "      <td>Not Returned</td>\n",
       "    </tr>\n",
       "    <tr>\n",
       "      <th>3</th>\n",
       "      <td>CUST0004</td>\n",
       "      <td>65.0</td>\n",
       "      <td>Male</td>\n",
       "      <td>PROD229</td>\n",
       "      <td>Best product I’ve used this year.</td>\n",
       "      <td>4</td>\n",
       "      <td>Positive</td>\n",
       "      <td>2024-01-04</td>\n",
       "      <td>Delhi</td>\n",
       "      <td>Returned</td>\n",
       "    </tr>\n",
       "    <tr>\n",
       "      <th>4</th>\n",
       "      <td>CUST0005</td>\n",
       "      <td>35.0</td>\n",
       "      <td>Female</td>\n",
       "      <td>PROD753</td>\n",
       "      <td>Satisfied with the purchase.</td>\n",
       "      <td>5</td>\n",
       "      <td>Positive</td>\n",
       "      <td>2024-01-05</td>\n",
       "      <td>Delhi</td>\n",
       "      <td>Not Returned</td>\n",
       "    </tr>\n",
       "    <tr>\n",
       "      <th>...</th>\n",
       "      <td>...</td>\n",
       "      <td>...</td>\n",
       "      <td>...</td>\n",
       "      <td>...</td>\n",
       "      <td>...</td>\n",
       "      <td>...</td>\n",
       "      <td>...</td>\n",
       "      <td>...</td>\n",
       "      <td>...</td>\n",
       "      <td>...</td>\n",
       "    </tr>\n",
       "    <tr>\n",
       "      <th>495</th>\n",
       "      <td>CUST0496</td>\n",
       "      <td>NaN</td>\n",
       "      <td>Other</td>\n",
       "      <td>PROD958</td>\n",
       "      <td>Very bad experience, will not buy again.</td>\n",
       "      <td>4</td>\n",
       "      <td>Negative</td>\n",
       "      <td>2025-05-10</td>\n",
       "      <td>Mumbai</td>\n",
       "      <td>Returned</td>\n",
       "    </tr>\n",
       "    <tr>\n",
       "      <th>496</th>\n",
       "      <td>CUST0497</td>\n",
       "      <td>20.0</td>\n",
       "      <td>Male</td>\n",
       "      <td>PROD240</td>\n",
       "      <td>Average quality, nothing special.</td>\n",
       "      <td>4</td>\n",
       "      <td>Positive</td>\n",
       "      <td>2025-05-11</td>\n",
       "      <td>Mumbai</td>\n",
       "      <td>Not Returned</td>\n",
       "    </tr>\n",
       "    <tr>\n",
       "      <th>497</th>\n",
       "      <td>CUST0498</td>\n",
       "      <td>41.0</td>\n",
       "      <td>Female</td>\n",
       "      <td>PROD743</td>\n",
       "      <td>Best product I’ve used this year.</td>\n",
       "      <td>4</td>\n",
       "      <td>Positive</td>\n",
       "      <td>2025-05-12</td>\n",
       "      <td>Chennai</td>\n",
       "      <td>Not Returned</td>\n",
       "    </tr>\n",
       "    <tr>\n",
       "      <th>498</th>\n",
       "      <td>CUST0499</td>\n",
       "      <td>55.0</td>\n",
       "      <td>NaN</td>\n",
       "      <td>PROD199</td>\n",
       "      <td>Amazing experience, will watch again.</td>\n",
       "      <td>2</td>\n",
       "      <td>Negative</td>\n",
       "      <td>2025-05-13</td>\n",
       "      <td>Chennai</td>\n",
       "      <td>Not Returned</td>\n",
       "    </tr>\n",
       "    <tr>\n",
       "      <th>499</th>\n",
       "      <td>CUST0500</td>\n",
       "      <td>53.0</td>\n",
       "      <td>Male</td>\n",
       "      <td>PROD742</td>\n",
       "      <td>Satisfied with the purchase.</td>\n",
       "      <td>3</td>\n",
       "      <td>Neutral</td>\n",
       "      <td>2025-05-14</td>\n",
       "      <td>Bangalore</td>\n",
       "      <td>Not Returned</td>\n",
       "    </tr>\n",
       "  </tbody>\n",
       "</table>\n",
       "<p>500 rows × 10 columns</p>\n",
       "</div>"
      ],
      "text/plain": [
       "    Customer_ID   Age  Gender Product_ID  \\\n",
       "0      CUST0001  58.0    Male    PROD666   \n",
       "1      CUST0002  25.0  Female    PROD399   \n",
       "2      CUST0003  19.0    Male    PROD814   \n",
       "3      CUST0004  65.0    Male    PROD229   \n",
       "4      CUST0005  35.0  Female    PROD753   \n",
       "..          ...   ...     ...        ...   \n",
       "495    CUST0496   NaN   Other    PROD958   \n",
       "496    CUST0497  20.0    Male    PROD240   \n",
       "497    CUST0498  41.0  Female    PROD743   \n",
       "498    CUST0499  55.0     NaN    PROD199   \n",
       "499    CUST0500  53.0    Male    PROD742   \n",
       "\n",
       "                                  Review_Text  Rating Sentiment Purchase_Date  \\\n",
       "0       Amazing experience, will watch again.       4  Positive    2024-01-01   \n",
       "1        Excellent product, highly recommend!       5  Positive    2024-01-02   \n",
       "2                  Terrible customer service.       5  Negative    2024-01-03   \n",
       "3           Best product I’ve used this year.       4  Positive    2024-01-04   \n",
       "4                Satisfied with the purchase.       5  Positive    2024-01-05   \n",
       "..                                        ...     ...       ...           ...   \n",
       "495  Very bad experience, will not buy again.       4  Negative    2025-05-10   \n",
       "496         Average quality, nothing special.       4  Positive    2025-05-11   \n",
       "497         Best product I’ve used this year.       4  Positive    2025-05-12   \n",
       "498     Amazing experience, will watch again.       2  Negative    2025-05-13   \n",
       "499              Satisfied with the purchase.       3   Neutral    2025-05-14   \n",
       "\n",
       "      Location Return_Status  \n",
       "0      Chennai  Not Returned  \n",
       "1    Bangalore      Returned  \n",
       "2        Delhi  Not Returned  \n",
       "3        Delhi      Returned  \n",
       "4        Delhi  Not Returned  \n",
       "..         ...           ...  \n",
       "495     Mumbai      Returned  \n",
       "496     Mumbai  Not Returned  \n",
       "497    Chennai  Not Returned  \n",
       "498    Chennai  Not Returned  \n",
       "499  Bangalore  Not Returned  \n",
       "\n",
       "[500 rows x 10 columns]"
      ]
     },
     "execution_count": 2,
     "metadata": {},
     "output_type": "execute_result"
    }
   ],
   "source": [
    "#Loading dataset\n",
    "df=pd.read_csv(\"customers_data.csv\")\n",
    "df"
   ]
  },
  {
   "cell_type": "code",
   "execution_count": 3,
   "metadata": {},
   "outputs": [
    {
     "data": {
      "text/plain": [
       "(500, 10)"
      ]
     },
     "execution_count": 3,
     "metadata": {},
     "output_type": "execute_result"
    }
   ],
   "source": [
    "#printing shape of dataset\n",
    "df.shape"
   ]
  },
  {
   "cell_type": "code",
   "execution_count": 4,
   "metadata": {},
   "outputs": [
    {
     "data": {
      "text/plain": [
       "Index(['Customer_ID', 'Age', 'Gender', 'Product_ID', 'Review_Text', 'Rating',\n",
       "       'Sentiment', 'Purchase_Date', 'Location', 'Return_Status'],\n",
       "      dtype='object')"
      ]
     },
     "execution_count": 4,
     "metadata": {},
     "output_type": "execute_result"
    }
   ],
   "source": [
    "#checking column names in dataset\n",
    "df.columns\n"
   ]
  },
  {
   "cell_type": "code",
   "execution_count": 5,
   "metadata": {},
   "outputs": [
    {
     "data": {
      "text/plain": [
       "Customer_ID       0\n",
       "Age              25\n",
       "Gender           25\n",
       "Product_ID        0\n",
       "Review_Text      25\n",
       "Rating            0\n",
       "Sentiment         0\n",
       "Purchase_Date     0\n",
       "Location         25\n",
       "Return_Status     0\n",
       "dtype: int64"
      ]
     },
     "execution_count": 5,
     "metadata": {},
     "output_type": "execute_result"
    }
   ],
   "source": [
    "#check missing values\n",
    "df.isnull().sum()"
   ]
  },
  {
   "cell_type": "code",
   "execution_count": 6,
   "metadata": {},
   "outputs": [],
   "source": [
    "#Handle missing Review_Text\n",
    "df['Review_Text'].fillna(\"No review provided\",inplace=True)\n",
    "# Replace missing Age with median\n",
    "df['Age'].fillna(df['Age'].median(),inplace=True)\n",
    "# Replace missing Gender with mode\n",
    "df['Gender'].fillna(df['Gender'].mode()[0],inplace=True)\n",
    "# Replace missing Location with mode\n",
    "df['Location'].fillna(df['Location'].mode()[0],inplace=True)\n"
   ]
  },
  {
   "cell_type": "code",
   "execution_count": 7,
   "metadata": {},
   "outputs": [
    {
     "data": {
      "text/plain": [
       "Customer_ID      0\n",
       "Age              0\n",
       "Gender           0\n",
       "Product_ID       0\n",
       "Review_Text      0\n",
       "Rating           0\n",
       "Sentiment        0\n",
       "Purchase_Date    0\n",
       "Location         0\n",
       "Return_Status    0\n",
       "dtype: int64"
      ]
     },
     "execution_count": 7,
     "metadata": {},
     "output_type": "execute_result"
    }
   ],
   "source": [
    "df.isnull().sum()"
   ]
  },
  {
   "cell_type": "code",
   "execution_count": 8,
   "metadata": {},
   "outputs": [
    {
     "data": {
      "text/plain": [
       "Sentiment\n",
       "Negative    282\n",
       "Positive    177\n",
       "Neutral      41\n",
       "Name: count, dtype: int64"
      ]
     },
     "execution_count": 8,
     "metadata": {},
     "output_type": "execute_result"
    }
   ],
   "source": [
    "#Check sentiment value counts:\n",
    "df['Sentiment'].value_counts()"
   ]
  },
  {
   "cell_type": "code",
   "execution_count": 9,
   "metadata": {},
   "outputs": [
    {
     "data": {
      "image/png": "[encoded data removed]",
      "text/plain": [
       "<Figure size 432x288 with 1 Axes>"
      ]
     },
     "metadata": {
      "needs_background": "light"
     },
     "output_type": "display_data"
    }
   ],
   "source": [
    "# Sentiment Distribution\n",
    "import seaborn as sns\n",
    "import matplotlib.pyplot as plt\n",
    "\n",
    "plt.figure(figsize=(6, 4))\n",
    "sns.countplot(data=df, x='Sentiment', palette='Set2',hue='Sentiment')\n",
    "plt.title(\"Sentiment Distribution\")\n",
    "plt.xlabel(\"Sentiment\")\n",
    "plt.ylabel(\"Count\")\n",
    "plt.grid(axis='y', linestyle='--')\n",
    "plt.show()"
   ]
  },
  {
   "cell_type": "code",
   "execution_count": 10,
   "metadata": {},
   "outputs": [
    {
     "data": {
      "image/png": "[encoded data removed]",
      "text/plain": [
       "<Figure size 432x288 with 1 Axes>"
      ]
     },
     "metadata": {
      "needs_background": "light"
     },
     "output_type": "display_data"
    }
   ],
   "source": [
    "#Ratings Distribution of histogram\n",
    "plt.figure(figsize=(6, 4))\n",
    "sns.histplot(df['Rating'], bins=5, kde=True, color='skyblue')\n",
    "plt.title(\"Ratings Distribution\")\n",
    "plt.xlabel(\"Rating\")\n",
    "plt.ylabel(\"Count\")\n",
    "plt.show()\n"
   ]
  },
  {
   "cell_type": "code",
   "execution_count": 11,
   "metadata": {},
   "outputs": [],
   "source": [
    "#Convert Sentiment to Numeric Labels\n",
    "df= df[df['Sentiment'] != 'Neutral']\n",
    "df = df.assign(label=df['Sentiment'].map({'Positive': 1, 'Negative': 0}))"
   ]
  },
  {
   "cell_type": "code",
   "execution_count": 12,
   "metadata": {},
   "outputs": [],
   "source": [
    "#Preprocess Text\n",
    "import re\n",
    "def clean_text(text):\n",
    "    text=str(text).lower() #convert to lowercase\n",
    "    text=re.sub(r'<.*?>','',text) #remove HTML tags\n",
    "    text=re.sub(r'[^a-z\\s]','',text) #remove punctuation and numbers\n",
    "    text=re.sub(r'\\s+','',text).strip() #remove extra spaces\n",
    "    return text\n",
    "# Apply to your review column\n",
    "df['cleaned_review']=df['Review_Text'].apply(clean_text)"
   ]
  },
  {
   "cell_type": "code",
   "execution_count": 13,
   "metadata": {},
   "outputs": [],
   "source": [
    "#TF-IDF Vectorization\n",
    "vectorizer=TfidfVectorizer(stop_words='english')\n",
    "X=vectorizer.fit_transform(df['cleaned_review'])\n",
    "y=df['label']"
   ]
  },
  {
   "cell_type": "code",
   "execution_count": 14,
   "metadata": {},
   "outputs": [
    {
     "name": "stdout",
     "output_type": "stream",
     "text": [
      "(367, 14)\n",
      "(367,)\n",
      "(92, 14)\n",
      "(92,)\n"
     ]
    }
   ],
   "source": [
    "#Split into Train and Test\n",
    "X_train,X_test,y_train,y_test=train_test_split(X,y,test_size=0.2,random_state=42)\n",
    "print(X_train.shape)\n",
    "print(y_train.shape)\n",
    "print(X_test.shape)\n",
    "print(y_test.shape)"
   ]
  },
  {
   "cell_type": "code",
   "execution_count": 15,
   "metadata": {},
   "outputs": [
    {
     "data": {
      "text/html": [
       "<style>#sk-container-id-1 {color: black;}#sk-container-id-1 pre{padding: 0;}#sk-container-id-1 div.sk-toggleable {background-color: white;}#sk-container-id-1 label.sk-toggleable__label {cursor: pointer;display: block;width: 100%;margin-bottom: 0;padding: 0.3em;box-sizing: border-box;text-align: center;}#sk-container-id-1 label.sk-toggleable__label-arrow:before {content: \"▸\";float: left;margin-right: 0.25em;color: #696969;}#sk-container-id-1 label.sk-toggleable__label-arrow:hover:before {color: black;}#sk-container-id-1 div.sk-estimator:hover label.sk-toggleable__label-arrow:before {color: black;}#sk-container-id-1 div.sk-toggleable__content {max-height: 0;max-width: 0;overflow: hidden;text-align: left;background-color: #f0f8ff;}#sk-container-id-1 div.sk-toggleable__content pre {margin: 0.2em;color: black;border-radius: 0.25em;background-color: #f0f8ff;}#sk-container-id-1 input.sk-toggleable__control:checked~div.sk-toggleable__content {max-height: 200px;max-width: 100%;overflow: auto;}#sk-container-id-1 input.sk-toggleable__control:checked~label.sk-toggleable__label-arrow:before {content: \"▾\";}#sk-container-id-1 div.sk-estimator input.sk-toggleable__control:checked~label.sk-toggleable__label {background-color: #d4ebff;}#sk-container-id-1 div.sk-label input.sk-toggleable__control:checked~label.sk-toggleable__label {background-color: #d4ebff;}#sk-container-id-1 input.sk-hidden--visually {border: 0;clip: rect(1px 1px 1px 1px);clip: rect(1px, 1px, 1px, 1px);height: 1px;margin: -1px;overflow: hidden;padding: 0;position: absolute;width: 1px;}#sk-container-id-1 div.sk-estimator {font-family: monospace;background-color: #f0f8ff;border: 1px dotted black;border-radius: 0.25em;box-sizing: border-box;margin-bottom: 0.5em;}#sk-container-id-1 div.sk-estimator:hover {background-color: #d4ebff;}#sk-container-id-1 div.sk-parallel-item::after {content: \"\";width: 100%;border-bottom: 1px solid gray;flex-grow: 1;}#sk-container-id-1 div.sk-label:hover label.sk-toggleable__label {background-color: #d4ebff;}#sk-container-id-1 div.sk-serial::before {content: \"\";position: absolute;border-left: 1px solid gray;box-sizing: border-box;top: 0;bottom: 0;left: 50%;z-index: 0;}#sk-container-id-1 div.sk-serial {display: flex;flex-direction: column;align-items: center;background-color: white;padding-right: 0.2em;padding-left: 0.2em;position: relative;}#sk-container-id-1 div.sk-item {position: relative;z-index: 1;}#sk-container-id-1 div.sk-parallel {display: flex;align-items: stretch;justify-content: center;background-color: white;position: relative;}#sk-container-id-1 div.sk-item::before, #sk-container-id-1 div.sk-parallel-item::before {content: \"\";position: absolute;border-left: 1px solid gray;box-sizing: border-box;top: 0;bottom: 0;left: 50%;z-index: -1;}#sk-container-id-1 div.sk-parallel-item {display: flex;flex-direction: column;z-index: 1;position: relative;background-color: white;}#sk-container-id-1 div.sk-parallel-item:first-child::after {align-self: flex-end;width: 50%;}#sk-container-id-1 div.sk-parallel-item:last-child::after {align-self: flex-start;width: 50%;}#sk-container-id-1 div.sk-parallel-item:only-child::after {width: 0;}#sk-container-id-1 div.sk-dashed-wrapped {border: 1px dashed gray;margin: 0 0.4em 0.5em 0.4em;box-sizing: border-box;padding-bottom: 0.4em;background-color: white;}#sk-container-id-1 div.sk-label label {font-family: monospace;font-weight: bold;display: inline-block;line-height: 1.2em;}#sk-container-id-1 div.sk-label-container {text-align: center;}#sk-container-id-1 div.sk-container {/* jupyter's `normalize.less` sets `[hidden] { display: none; }` but bootstrap.min.css set `[hidden] { display: none !important; }` so we also need the `!important` here to be able to override the default hidden behavior on the sphinx rendered scikit-learn.org. See: https://github.com/scikit-learn/scikit-learn/issues/21755 */display: inline-block !important;position: relative;}#sk-container-id-1 div.sk-text-repr-fallback {display: none;}</style><div id=\"sk-container-id-1\" class=\"sk-top-container\"><div class=\"sk-text-repr-fallback\"><pre>LogisticRegression()</pre><b>In a Jupyter environment, please rerun this cell to show the HTML representation or trust the notebook. <br />On GitHub, the HTML representation is unable to render, please try loading this page with nbviewer.org.</b></div><div class=\"sk-container\" hidden><div class=\"sk-item\"><div class=\"sk-estimator sk-toggleable\"><input class=\"sk-toggleable__control sk-hidden--visually\" id=\"sk-estimator-id-1\" type=\"checkbox\" checked><label for=\"sk-estimator-id-1\" class=\"sk-toggleable__label sk-toggleable__label-arrow\">LogisticRegression</label><div class=\"sk-toggleable__content\"><pre>LogisticRegression()</pre></div></div></div></div></div>"
      ],
      "text/plain": [
       "LogisticRegression()"
      ]
     },
     "execution_count": 15,
     "metadata": {},
     "output_type": "execute_result"
    }
   ],
   "source": [
    "# Train Logistic Regression Model\n",
    "model=LogisticRegression()\n",
    "model.fit(X_train,y_train)"
   ]
  },
  {
   "cell_type": "code",
   "execution_count": 16,
   "metadata": {},
   "outputs": [
    {
     "name": "stdout",
     "output_type": "stream",
     "text": [
      "Accuracy: 0.7934782608695652\n",
      "Classification report:\n",
      "               precision    recall  f1-score   support\n",
      "\n",
      "           0       0.85      0.83      0.84        60\n",
      "           1       0.70      0.72      0.71        32\n",
      "\n",
      "    accuracy                           0.79        92\n",
      "   macro avg       0.77      0.78      0.77        92\n",
      "weighted avg       0.80      0.79      0.79        92\n",
      "\n"
     ]
    }
   ],
   "source": [
    "# Predict and Evaluate\n",
    "y_pred=model.predict(X_test)\n",
    "print(\"Accuracy:\",accuracy_score(y_test,y_pred))\n",
    "print(\"Classification report:\\n\",classification_report(y_test,y_pred))"
   ]
  },
  {
   "cell_type": "code",
   "execution_count": 17,
   "metadata": {},
   "outputs": [
    {
     "name": "stdout",
     "output_type": "stream",
     "text": [
      "confusion_matrix:\n",
      " [[50 10]\n",
      " [ 9 23]]\n",
      "Precision: 0.696969696969697\n",
      "Recall: 0.71875\n",
      "F1 Score: 0.7076923076923077\n"
     ]
    }
   ],
   "source": [
    "print(\"confusion_matrix:\\n\",confusion_matrix(y_test,y_pred))\n",
    "print(\"Precision:\", precision_score(y_test, y_pred))\n",
    "print(\"Recall:\", recall_score(y_test, y_pred))\n",
    "print(\"F1 Score:\", f1_score(y_test, y_pred))"
   ]
  },
  {
   "cell_type": "code",
   "execution_count": null,
   "metadata": {},
   "outputs": [],
   "source": []
  },
  {
   "cell_type": "code",
   "execution_count": null,
   "metadata": {},
   "outputs": [],
   "source": []
  },
  {
   "cell_type": "code",
   "execution_count": null,
   "metadata": {},
   "outputs": [],
   "source": []
  },
  {
   "cell_type": "code",
   "execution_count": null,
   "metadata": {},
   "outputs": [],
   "source": []
  }
 ],
 "metadata": {
  "kernelspec": {
   "display_name": "Python 3",
   "language": "python",
   "name": "python3"
  },
  "language_info": {
   "codemirror_mode": {
    "name": "ipython",
    "version": 3
   },
   "file_extension": ".py",
   "mimetype": "text/x-python",
   "name": "python",
   "nbconvert_exporter": "python",
   "pygments_lexer": "ipython3",
   "version": "3.8.10"
  }
 },
 "nbformat": 4,
 "nbformat_minor": 4
}
